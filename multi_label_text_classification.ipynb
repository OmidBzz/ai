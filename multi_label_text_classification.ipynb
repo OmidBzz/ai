{
  "nbformat": 4,
  "nbformat_minor": 0,
  "metadata": {
    "colab": {
      "provenance": [],
      "include_colab_link": true
    },
    "kernelspec": {
      "name": "python3",
      "display_name": "Python 3"
    },
    "language_info": {
      "name": "python"
    },
    "accelerator": "GPU",
    "gpuClass": "standard"
  },
  "cells": [
    {
      "cell_type": "markdown",
      "metadata": {
        "id": "view-in-github",
        "colab_type": "text"
      },
      "source": [
        "<a href=\"https://colab.research.google.com/github/OmidBzz/ai/blob/main/multi_label_text_classification.ipynb\" target=\"_parent\"><img src=\"https://colab.research.google.com/assets/colab-badge.svg\" alt=\"Open In Colab\"/></a>"
      ]
    },
    {
      "cell_type": "markdown",
      "source": [
        "# Multi-label text classification\n",
        "\n",
        "**Author:** [Farrokh Karimi](https://farrokhkarimi.github.io/)  \n",
        "**Description:** In this notebook, we want to classify the Ronash dataset into 20 category."
      ],
      "metadata": {
        "id": "Bij91pNWQOR5"
      }
    },
    {
      "cell_type": "code",
      "source": [
        "import matplotlib.pyplot as plt\n",
        "import numpy as np\n",
        "import pandas as pd\n",
        "import re\n",
        "import tensorflow as tf\n",
        "\n",
        "from collections import Counter\n",
        "from sklearn.model_selection import train_test_split\n",
        "from tensorflow.keras import layers"
      ],
      "metadata": {
        "id": "sL739kMAEsU9"
      },
      "execution_count": 1,
      "outputs": []
    },
    {
      "cell_type": "code",
      "source": [
        "# downloading Data from the Google Drive link\n",
        "!gdown 1Yq3XTnACkvaIiNlhX09Zth55nOau7jQy"
      ],
      "metadata": {
        "colab": {
          "base_uri": "https://localhost:8080/"
        },
        "id": "SHa9m3aLEbyP",
        "outputId": "bc7e2b5f-855c-4c8f-dfe8-1845f7a97a2b"
      },
      "execution_count": 2,
      "outputs": [
        {
          "output_type": "stream",
          "name": "stdout",
          "text": [
            "Downloading...\n",
            "From: https://drive.google.com/uc?id=1Yq3XTnACkvaIiNlhX09Zth55nOau7jQy\n",
            "To: /content/Ronash_DS_Assignment.csv\n",
            "\r  0% 0.00/1.05M [00:00<?, ?B/s]\r100% 1.05M/1.05M [00:00<00:00, 94.7MB/s]\n"
          ]
        }
      ]
    },
    {
      "cell_type": "code",
      "source": [
        "ls"
      ],
      "metadata": {
        "colab": {
          "base_uri": "https://localhost:8080/"
        },
        "id": "6QpBuoWrC5QS",
        "outputId": "10525c9a-6887-4129-ea6d-40f3e652bd6a"
      },
      "execution_count": 3,
      "outputs": [
        {
          "output_type": "stream",
          "name": "stdout",
          "text": [
            "Ronash_DS_Assignment.csv  \u001b[0m\u001b[01;34msample_data\u001b[0m/\n"
          ]
        }
      ]
    },
    {
      "cell_type": "code",
      "source": [
        "# reading the csv file as a dataframe\n",
        "df = pd.read_csv('Ronash_DS_Assignment.csv')\n",
        "df"
      ],
      "metadata": {
        "colab": {
          "base_uri": "https://localhost:8080/",
          "height": 571
        },
        "id": "722bMOmzF4_H",
        "outputId": "99c5c4ff-995f-4cb0-bb52-20abd1f25ff7"
      },
      "execution_count": 4,
      "outputs": [
        {
          "output_type": "execute_result",
          "data": {
            "text/plain": [
              "         product_id                                              title  \\\n",
              "0     3937721221199    Fidele Super Premium Adult Large Breed Dog Food   \n",
              "1     7353058033889                    Foldable Pet Toys Linen Storage   \n",
              "2     6594773549129                                     Bok Dok Diaper   \n",
              "3     4802008318014                              Tastybone Toy Chicken   \n",
              "4     1779705151539                Leather Leash Tab - Short Dog Leash   \n",
              "...             ...                                                ...   \n",
              "5265  4637089464407                              Candylab MOO Milk Van   \n",
              "5266  4996632444987  Truck - Modern Era Vehicles -- Red, White -  S...   \n",
              "5267  5528541003927  Car Sticker Flags Decal American Flag Sticker for   \n",
              "5268  1395163889730          Lazer Helmets Bayamo Pit Bull - Full Face   \n",
              "5269  3535679324240                             Deutz Agrotron Tractor   \n",
              "\n",
              "                 vendor                                               tags  \\\n",
              "0                Fidele  ['Adult', 'Bangalore', 'Chennai', 'Chicken', '...   \n",
              "1             Cap Point                                                 []   \n",
              "2             Pets Home  ['Brand_Pet Arabia', 'Category_Pets Home', 'Ca...   \n",
              "3             TastyBone                                                 []   \n",
              "4            Mighty Paw                 ['Leash', 'Leash Tab', 'Training']   \n",
              "...                 ...                                                ...   \n",
              "5265           Candylab  ['3 Years +', 'candylab', 'Discount Products',...   \n",
              "5266   Woodland Scenics  ['HO Scale', 'ho-scale-items', 'vehicles', 'wo...   \n",
              "5267        Cyan Selene                                          ['Other']   \n",
              "5268  OPEN BOX BARGAINS  ['65061090', 'Antiscratch Pinlock Ready Visor'...   \n",
              "5269               Siku  ['$0 to $25', 'diecast-models', 'gift-finder',...   \n",
              "\n",
              "                    category  \n",
              "0     Animals & Pet Supplies  \n",
              "1     Animals & Pet Supplies  \n",
              "2     Animals & Pet Supplies  \n",
              "3     Animals & Pet Supplies  \n",
              "4     Animals & Pet Supplies  \n",
              "...                      ...  \n",
              "5265        Vehicles & Parts  \n",
              "5266        Vehicles & Parts  \n",
              "5267        Vehicles & Parts  \n",
              "5268        Vehicles & Parts  \n",
              "5269        Vehicles & Parts  \n",
              "\n",
              "[5270 rows x 5 columns]"
            ],
            "text/html": [
              "\n",
              "  <div id=\"df-bca87171-c8be-4db2-9278-b4cb5a961543\">\n",
              "    <div class=\"colab-df-container\">\n",
              "      <div>\n",
              "<style scoped>\n",
              "    .dataframe tbody tr th:only-of-type {\n",
              "        vertical-align: middle;\n",
              "    }\n",
              "\n",
              "    .dataframe tbody tr th {\n",
              "        vertical-align: top;\n",
              "    }\n",
              "\n",
              "    .dataframe thead th {\n",
              "        text-align: right;\n",
              "    }\n",
              "</style>\n",
              "<table border=\"1\" class=\"dataframe\">\n",
              "  <thead>\n",
              "    <tr style=\"text-align: right;\">\n",
              "      <th></th>\n",
              "      <th>product_id</th>\n",
              "      <th>title</th>\n",
              "      <th>vendor</th>\n",
              "      <th>tags</th>\n",
              "      <th>category</th>\n",
              "    </tr>\n",
              "  </thead>\n",
              "  <tbody>\n",
              "    <tr>\n",
              "      <th>0</th>\n",
              "      <td>3937721221199</td>\n",
              "      <td>Fidele Super Premium Adult Large Breed Dog Food</td>\n",
              "      <td>Fidele</td>\n",
              "      <td>['Adult', 'Bangalore', 'Chennai', 'Chicken', '...</td>\n",
              "      <td>Animals &amp; Pet Supplies</td>\n",
              "    </tr>\n",
              "    <tr>\n",
              "      <th>1</th>\n",
              "      <td>7353058033889</td>\n",
              "      <td>Foldable Pet Toys Linen Storage</td>\n",
              "      <td>Cap Point</td>\n",
              "      <td>[]</td>\n",
              "      <td>Animals &amp; Pet Supplies</td>\n",
              "    </tr>\n",
              "    <tr>\n",
              "      <th>2</th>\n",
              "      <td>6594773549129</td>\n",
              "      <td>Bok Dok Diaper</td>\n",
              "      <td>Pets Home</td>\n",
              "      <td>['Brand_Pet Arabia', 'Category_Pets Home', 'Ca...</td>\n",
              "      <td>Animals &amp; Pet Supplies</td>\n",
              "    </tr>\n",
              "    <tr>\n",
              "      <th>3</th>\n",
              "      <td>4802008318014</td>\n",
              "      <td>Tastybone Toy Chicken</td>\n",
              "      <td>TastyBone</td>\n",
              "      <td>[]</td>\n",
              "      <td>Animals &amp; Pet Supplies</td>\n",
              "    </tr>\n",
              "    <tr>\n",
              "      <th>4</th>\n",
              "      <td>1779705151539</td>\n",
              "      <td>Leather Leash Tab - Short Dog Leash</td>\n",
              "      <td>Mighty Paw</td>\n",
              "      <td>['Leash', 'Leash Tab', 'Training']</td>\n",
              "      <td>Animals &amp; Pet Supplies</td>\n",
              "    </tr>\n",
              "    <tr>\n",
              "      <th>...</th>\n",
              "      <td>...</td>\n",
              "      <td>...</td>\n",
              "      <td>...</td>\n",
              "      <td>...</td>\n",
              "      <td>...</td>\n",
              "    </tr>\n",
              "    <tr>\n",
              "      <th>5265</th>\n",
              "      <td>4637089464407</td>\n",
              "      <td>Candylab MOO Milk Van</td>\n",
              "      <td>Candylab</td>\n",
              "      <td>['3 Years +', 'candylab', 'Discount Products',...</td>\n",
              "      <td>Vehicles &amp; Parts</td>\n",
              "    </tr>\n",
              "    <tr>\n",
              "      <th>5266</th>\n",
              "      <td>4996632444987</td>\n",
              "      <td>Truck - Modern Era Vehicles -- Red, White -  S...</td>\n",
              "      <td>Woodland Scenics</td>\n",
              "      <td>['HO Scale', 'ho-scale-items', 'vehicles', 'wo...</td>\n",
              "      <td>Vehicles &amp; Parts</td>\n",
              "    </tr>\n",
              "    <tr>\n",
              "      <th>5267</th>\n",
              "      <td>5528541003927</td>\n",
              "      <td>Car Sticker Flags Decal American Flag Sticker for</td>\n",
              "      <td>Cyan Selene</td>\n",
              "      <td>['Other']</td>\n",
              "      <td>Vehicles &amp; Parts</td>\n",
              "    </tr>\n",
              "    <tr>\n",
              "      <th>5268</th>\n",
              "      <td>1395163889730</td>\n",
              "      <td>Lazer Helmets Bayamo Pit Bull - Full Face</td>\n",
              "      <td>OPEN BOX BARGAINS</td>\n",
              "      <td>['65061090', 'Antiscratch Pinlock Ready Visor'...</td>\n",
              "      <td>Vehicles &amp; Parts</td>\n",
              "    </tr>\n",
              "    <tr>\n",
              "      <th>5269</th>\n",
              "      <td>3535679324240</td>\n",
              "      <td>Deutz Agrotron Tractor</td>\n",
              "      <td>Siku</td>\n",
              "      <td>['$0 to $25', 'diecast-models', 'gift-finder',...</td>\n",
              "      <td>Vehicles &amp; Parts</td>\n",
              "    </tr>\n",
              "  </tbody>\n",
              "</table>\n",
              "<p>5270 rows × 5 columns</p>\n",
              "</div>\n",
              "      <button class=\"colab-df-convert\" onclick=\"convertToInteractive('df-bca87171-c8be-4db2-9278-b4cb5a961543')\"\n",
              "              title=\"Convert this dataframe to an interactive table.\"\n",
              "              style=\"display:none;\">\n",
              "        \n",
              "  <svg xmlns=\"http://www.w3.org/2000/svg\" height=\"24px\"viewBox=\"0 0 24 24\"\n",
              "       width=\"24px\">\n",
              "    <path d=\"M0 0h24v24H0V0z\" fill=\"none\"/>\n",
              "    <path d=\"M18.56 5.44l.94 2.06.94-2.06 2.06-.94-2.06-.94-.94-2.06-.94 2.06-2.06.94zm-11 1L8.5 8.5l.94-2.06 2.06-.94-2.06-.94L8.5 2.5l-.94 2.06-2.06.94zm10 10l.94 2.06.94-2.06 2.06-.94-2.06-.94-.94-2.06-.94 2.06-2.06.94z\"/><path d=\"M17.41 7.96l-1.37-1.37c-.4-.4-.92-.59-1.43-.59-.52 0-1.04.2-1.43.59L10.3 9.45l-7.72 7.72c-.78.78-.78 2.05 0 2.83L4 21.41c.39.39.9.59 1.41.59.51 0 1.02-.2 1.41-.59l7.78-7.78 2.81-2.81c.8-.78.8-2.07 0-2.86zM5.41 20L4 18.59l7.72-7.72 1.47 1.35L5.41 20z\"/>\n",
              "  </svg>\n",
              "      </button>\n",
              "      \n",
              "  <style>\n",
              "    .colab-df-container {\n",
              "      display:flex;\n",
              "      flex-wrap:wrap;\n",
              "      gap: 12px;\n",
              "    }\n",
              "\n",
              "    .colab-df-convert {\n",
              "      background-color: #E8F0FE;\n",
              "      border: none;\n",
              "      border-radius: 50%;\n",
              "      cursor: pointer;\n",
              "      display: none;\n",
              "      fill: #1967D2;\n",
              "      height: 32px;\n",
              "      padding: 0 0 0 0;\n",
              "      width: 32px;\n",
              "    }\n",
              "\n",
              "    .colab-df-convert:hover {\n",
              "      background-color: #E2EBFA;\n",
              "      box-shadow: 0px 1px 2px rgba(60, 64, 67, 0.3), 0px 1px 3px 1px rgba(60, 64, 67, 0.15);\n",
              "      fill: #174EA6;\n",
              "    }\n",
              "\n",
              "    [theme=dark] .colab-df-convert {\n",
              "      background-color: #3B4455;\n",
              "      fill: #D2E3FC;\n",
              "    }\n",
              "\n",
              "    [theme=dark] .colab-df-convert:hover {\n",
              "      background-color: #434B5C;\n",
              "      box-shadow: 0px 1px 3px 1px rgba(0, 0, 0, 0.15);\n",
              "      filter: drop-shadow(0px 1px 2px rgba(0, 0, 0, 0.3));\n",
              "      fill: #FFFFFF;\n",
              "    }\n",
              "  </style>\n",
              "\n",
              "      <script>\n",
              "        const buttonEl =\n",
              "          document.querySelector('#df-bca87171-c8be-4db2-9278-b4cb5a961543 button.colab-df-convert');\n",
              "        buttonEl.style.display =\n",
              "          google.colab.kernel.accessAllowed ? 'block' : 'none';\n",
              "\n",
              "        async function convertToInteractive(key) {\n",
              "          const element = document.querySelector('#df-bca87171-c8be-4db2-9278-b4cb5a961543');\n",
              "          const dataTable =\n",
              "            await google.colab.kernel.invokeFunction('convertToInteractive',\n",
              "                                                     [key], {});\n",
              "          if (!dataTable) return;\n",
              "\n",
              "          const docLinkHtml = 'Like what you see? Visit the ' +\n",
              "            '<a target=\"_blank\" href=https://colab.research.google.com/notebooks/data_table.ipynb>data table notebook</a>'\n",
              "            + ' to learn more about interactive tables.';\n",
              "          element.innerHTML = '';\n",
              "          dataTable['output_type'] = 'display_data';\n",
              "          await google.colab.output.renderOutput(dataTable, element);\n",
              "          const docLink = document.createElement('div');\n",
              "          docLink.innerHTML = docLinkHtml;\n",
              "          element.appendChild(docLink);\n",
              "        }\n",
              "      </script>\n",
              "    </div>\n",
              "  </div>\n",
              "  "
            ]
          },
          "metadata": {},
          "execution_count": 4
        }
      ]
    },
    {
      "cell_type": "code",
      "source": [
        "# counting the number of each label\n",
        "label_num=df['category'].value_counts()\n",
        "label_count=label_num.to_dict()\n",
        "print(list(label_count.values()))\n",
        "print(list(label_count.keys()))"
      ],
      "metadata": {
        "colab": {
          "base_uri": "https://localhost:8080/"
        },
        "id": "6E1ZDXyPlr6y",
        "outputId": "b1e90ca9-5935-4f82-ac05-375c551bac86"
      },
      "execution_count": 5,
      "outputs": [
        {
          "output_type": "stream",
          "name": "stdout",
          "text": [
            "[1000, 500, 400, 400, 400, 400, 400, 300, 300, 200, 200, 200, 100, 100, 100, 100, 50, 50, 50, 20]\n",
            "['Apparel & Accessories', 'Animals & Pet Supplies', 'Food, Beverages & Tobacco', 'Sporting Goods', 'Luggage & Bags', 'Home & Garden', 'Health & Beauty', 'Media', 'Toys & Games', 'Furniture', 'Baby & Toddler', 'Arts & Entertainment', 'Electronics', 'Business & Industrial', 'Office Supplies', 'Vehicles & Parts', 'Hardware', 'Cameras & Optics', 'Software', 'Religious & Ceremonial']\n"
          ]
        }
      ]
    },
    {
      "cell_type": "code",
      "source": [
        "# counting how many indices are duplicated in each column\n",
        "print(f\"There are {sum(df['title'].duplicated())} duplicate title.\")\n",
        "print(f\"There are {sum(df['vendor'].duplicated())} duplicate vondor.\")\n",
        "print(f\"There are {sum(df['tags'].duplicated())} duplicate tags.\")"
      ],
      "metadata": {
        "colab": {
          "base_uri": "https://localhost:8080/"
        },
        "id": "Un_ggKoLUAEf",
        "outputId": "6bf781ec-4775-4eeb-f05d-02b8de62a4c4"
      },
      "execution_count": 6,
      "outputs": [
        {
          "output_type": "stream",
          "name": "stdout",
          "text": [
            "There are 0 duplicate title.\n",
            "There are 1256 duplicate vondor.\n",
            "There are 716 duplicate tags.\n"
          ]
        }
      ]
    },
    {
      "cell_type": "code",
      "source": [
        "# counting the number of Nan samples\n",
        "df.isnull().values.sum()"
      ],
      "metadata": {
        "colab": {
          "base_uri": "https://localhost:8080/"
        },
        "id": "VD95efZwCRYT",
        "outputId": "f35382ca-f351-4fea-a58e-627007f143eb"
      },
      "execution_count": 7,
      "outputs": [
        {
          "output_type": "execute_result",
          "data": {
            "text/plain": [
              "3"
            ]
          },
          "metadata": {},
          "execution_count": 7
        }
      ]
    },
    {
      "cell_type": "markdown",
      "source": [
        "There are just 3 Nan samples in the dataset so we can ignore them."
      ],
      "metadata": {
        "id": "rhPJQuDEb8oN"
      }
    },
    {
      "cell_type": "code",
      "source": [
        "# the function for extracting and standardizing the sentences\n",
        "def text_extraction(dfi):\n",
        "  # in this function, we concatenate text feature parts of the data as a sentence\n",
        "  sentence = ' '.join([dfi['title'], str(dfi['vendor']), dfi['tags']])\n",
        "  # Remove punctuations\n",
        "  sentence = re.sub('[^a-zA-Z0-9$.]', ' ', sentence)\n",
        "  # Single character removal\n",
        "  sentence = re.sub(r\"\\s+[a-zA-Z]\\s+\", ' ', sentence)\n",
        "  # Removing multiple spaces\n",
        "  sentence = re.sub(r'\\s+', ' ', sentence)\n",
        "  # Changint to lowercase\n",
        "  sentence = sentence.lower()\n",
        "  return sentence\n",
        "\n",
        "# printing 10 sample sentences\n",
        "for i in range(10):\n",
        "  print(text_extraction(df.iloc[i]))"
      ],
      "metadata": {
        "colab": {
          "base_uri": "https://localhost:8080/"
        },
        "id": "aH9UzP7-__P2",
        "outputId": "6184fdb9-b116-4406-d732-56c5c9872691"
      },
      "execution_count": 8,
      "outputs": [
        {
          "output_type": "stream",
          "name": "stdout",
          "text": [
            "fidele super premium adult large breed dog food fidele adult bangalore chennai chicken doberman dog dry foods fidele german shepherd golden retriever great dane highpriority imported labrador less than 1000 less than 2000 less than 500 mastiff orange pet nutrition \n",
            "foldable pet toys linen storage cap point \n",
            "bok dok diaper pets home brand pet arabia category pets home category small pets supplies type pet home type pet supplies \n",
            "tastybone toy chicken tastybone \n",
            "leather leash tab short dog leash mighty paw leash leash tab training \n",
            "pridebites texas guitar dog toy pride bites brand pridebites toy type plush \n",
            "burns sensitive pork potato burns 10 25 25 50 50 75 adult burns coat dog food food delivery jansale18 natural nonsale19 sensitive size 12kg size 2kg size 6kg skin \n",
            "bully sticks dog toy adog.co bully sticks dog chew toys dog toys \n",
            "kazoo tough giraffe dog toy kazoo brand kazoo june2021 kazoo material plush plush \n",
            "orgo dog biscuits fresh milk petku brand orgo category dogs dogs lifestage all lifestages orgo price rp 0 to rp 100.000 subcategory treats treats \n"
          ]
        }
      ]
    },
    {
      "cell_type": "code",
      "source": [
        "# creating the dataset\n",
        "dataset = pd.DataFrame(columns=['text', 'label'])\n",
        "for i in range(len(df)):\n",
        "  for j in range(max(list(label_count.values()))//label_count.get(df.iloc[i]['category'])):\n",
        "    dataset = dataset.append({'text':text_extraction(df.iloc[i]), 'label':df.iloc[i]['category']}, ignore_index = True)\n",
        "  \n",
        "# creating integer labels for multiclass training\n",
        "dataset['label_int'] = pd.Categorical(dataset['label']).codes\n",
        "dataset"
      ],
      "metadata": {
        "colab": {
          "base_uri": "https://localhost:8080/",
          "height": 423
        },
        "id": "7x4WG7NC9Xz3",
        "outputId": "439881a4-ce28-4ca0-d61c-d1a62e41dce7"
      },
      "execution_count": 9,
      "outputs": [
        {
          "output_type": "execute_result",
          "data": {
            "text/plain": [
              "                                                    text  \\\n",
              "0      fidele super premium adult large breed dog foo...   \n",
              "1      fidele super premium adult large breed dog foo...   \n",
              "2             foldable pet toys linen storage cap point    \n",
              "3             foldable pet toys linen storage cap point    \n",
              "4      bok dok diaper pets home brand pet arabia cate...   \n",
              "...                                                  ...   \n",
              "18795  deutz agrotron tractor siku $0 to $25 diecast ...   \n",
              "18796  deutz agrotron tractor siku $0 to $25 diecast ...   \n",
              "18797  deutz agrotron tractor siku $0 to $25 diecast ...   \n",
              "18798  deutz agrotron tractor siku $0 to $25 diecast ...   \n",
              "18799  deutz agrotron tractor siku $0 to $25 diecast ...   \n",
              "\n",
              "                        label  label_int  \n",
              "0      Animals & Pet Supplies          0  \n",
              "1      Animals & Pet Supplies          0  \n",
              "2      Animals & Pet Supplies          0  \n",
              "3      Animals & Pet Supplies          0  \n",
              "4      Animals & Pet Supplies          0  \n",
              "...                       ...        ...  \n",
              "18795        Vehicles & Parts         19  \n",
              "18796        Vehicles & Parts         19  \n",
              "18797        Vehicles & Parts         19  \n",
              "18798        Vehicles & Parts         19  \n",
              "18799        Vehicles & Parts         19  \n",
              "\n",
              "[18800 rows x 3 columns]"
            ],
            "text/html": [
              "\n",
              "  <div id=\"df-370dd915-f505-4b68-b36a-cf3fa623257d\">\n",
              "    <div class=\"colab-df-container\">\n",
              "      <div>\n",
              "<style scoped>\n",
              "    .dataframe tbody tr th:only-of-type {\n",
              "        vertical-align: middle;\n",
              "    }\n",
              "\n",
              "    .dataframe tbody tr th {\n",
              "        vertical-align: top;\n",
              "    }\n",
              "\n",
              "    .dataframe thead th {\n",
              "        text-align: right;\n",
              "    }\n",
              "</style>\n",
              "<table border=\"1\" class=\"dataframe\">\n",
              "  <thead>\n",
              "    <tr style=\"text-align: right;\">\n",
              "      <th></th>\n",
              "      <th>text</th>\n",
              "      <th>label</th>\n",
              "      <th>label_int</th>\n",
              "    </tr>\n",
              "  </thead>\n",
              "  <tbody>\n",
              "    <tr>\n",
              "      <th>0</th>\n",
              "      <td>fidele super premium adult large breed dog foo...</td>\n",
              "      <td>Animals &amp; Pet Supplies</td>\n",
              "      <td>0</td>\n",
              "    </tr>\n",
              "    <tr>\n",
              "      <th>1</th>\n",
              "      <td>fidele super premium adult large breed dog foo...</td>\n",
              "      <td>Animals &amp; Pet Supplies</td>\n",
              "      <td>0</td>\n",
              "    </tr>\n",
              "    <tr>\n",
              "      <th>2</th>\n",
              "      <td>foldable pet toys linen storage cap point</td>\n",
              "      <td>Animals &amp; Pet Supplies</td>\n",
              "      <td>0</td>\n",
              "    </tr>\n",
              "    <tr>\n",
              "      <th>3</th>\n",
              "      <td>foldable pet toys linen storage cap point</td>\n",
              "      <td>Animals &amp; Pet Supplies</td>\n",
              "      <td>0</td>\n",
              "    </tr>\n",
              "    <tr>\n",
              "      <th>4</th>\n",
              "      <td>bok dok diaper pets home brand pet arabia cate...</td>\n",
              "      <td>Animals &amp; Pet Supplies</td>\n",
              "      <td>0</td>\n",
              "    </tr>\n",
              "    <tr>\n",
              "      <th>...</th>\n",
              "      <td>...</td>\n",
              "      <td>...</td>\n",
              "      <td>...</td>\n",
              "    </tr>\n",
              "    <tr>\n",
              "      <th>18795</th>\n",
              "      <td>deutz agrotron tractor siku $0 to $25 diecast ...</td>\n",
              "      <td>Vehicles &amp; Parts</td>\n",
              "      <td>19</td>\n",
              "    </tr>\n",
              "    <tr>\n",
              "      <th>18796</th>\n",
              "      <td>deutz agrotron tractor siku $0 to $25 diecast ...</td>\n",
              "      <td>Vehicles &amp; Parts</td>\n",
              "      <td>19</td>\n",
              "    </tr>\n",
              "    <tr>\n",
              "      <th>18797</th>\n",
              "      <td>deutz agrotron tractor siku $0 to $25 diecast ...</td>\n",
              "      <td>Vehicles &amp; Parts</td>\n",
              "      <td>19</td>\n",
              "    </tr>\n",
              "    <tr>\n",
              "      <th>18798</th>\n",
              "      <td>deutz agrotron tractor siku $0 to $25 diecast ...</td>\n",
              "      <td>Vehicles &amp; Parts</td>\n",
              "      <td>19</td>\n",
              "    </tr>\n",
              "    <tr>\n",
              "      <th>18799</th>\n",
              "      <td>deutz agrotron tractor siku $0 to $25 diecast ...</td>\n",
              "      <td>Vehicles &amp; Parts</td>\n",
              "      <td>19</td>\n",
              "    </tr>\n",
              "  </tbody>\n",
              "</table>\n",
              "<p>18800 rows × 3 columns</p>\n",
              "</div>\n",
              "      <button class=\"colab-df-convert\" onclick=\"convertToInteractive('df-370dd915-f505-4b68-b36a-cf3fa623257d')\"\n",
              "              title=\"Convert this dataframe to an interactive table.\"\n",
              "              style=\"display:none;\">\n",
              "        \n",
              "  <svg xmlns=\"http://www.w3.org/2000/svg\" height=\"24px\"viewBox=\"0 0 24 24\"\n",
              "       width=\"24px\">\n",
              "    <path d=\"M0 0h24v24H0V0z\" fill=\"none\"/>\n",
              "    <path d=\"M18.56 5.44l.94 2.06.94-2.06 2.06-.94-2.06-.94-.94-2.06-.94 2.06-2.06.94zm-11 1L8.5 8.5l.94-2.06 2.06-.94-2.06-.94L8.5 2.5l-.94 2.06-2.06.94zm10 10l.94 2.06.94-2.06 2.06-.94-2.06-.94-.94-2.06-.94 2.06-2.06.94z\"/><path d=\"M17.41 7.96l-1.37-1.37c-.4-.4-.92-.59-1.43-.59-.52 0-1.04.2-1.43.59L10.3 9.45l-7.72 7.72c-.78.78-.78 2.05 0 2.83L4 21.41c.39.39.9.59 1.41.59.51 0 1.02-.2 1.41-.59l7.78-7.78 2.81-2.81c.8-.78.8-2.07 0-2.86zM5.41 20L4 18.59l7.72-7.72 1.47 1.35L5.41 20z\"/>\n",
              "  </svg>\n",
              "      </button>\n",
              "      \n",
              "  <style>\n",
              "    .colab-df-container {\n",
              "      display:flex;\n",
              "      flex-wrap:wrap;\n",
              "      gap: 12px;\n",
              "    }\n",
              "\n",
              "    .colab-df-convert {\n",
              "      background-color: #E8F0FE;\n",
              "      border: none;\n",
              "      border-radius: 50%;\n",
              "      cursor: pointer;\n",
              "      display: none;\n",
              "      fill: #1967D2;\n",
              "      height: 32px;\n",
              "      padding: 0 0 0 0;\n",
              "      width: 32px;\n",
              "    }\n",
              "\n",
              "    .colab-df-convert:hover {\n",
              "      background-color: #E2EBFA;\n",
              "      box-shadow: 0px 1px 2px rgba(60, 64, 67, 0.3), 0px 1px 3px 1px rgba(60, 64, 67, 0.15);\n",
              "      fill: #174EA6;\n",
              "    }\n",
              "\n",
              "    [theme=dark] .colab-df-convert {\n",
              "      background-color: #3B4455;\n",
              "      fill: #D2E3FC;\n",
              "    }\n",
              "\n",
              "    [theme=dark] .colab-df-convert:hover {\n",
              "      background-color: #434B5C;\n",
              "      box-shadow: 0px 1px 3px 1px rgba(0, 0, 0, 0.15);\n",
              "      filter: drop-shadow(0px 1px 2px rgba(0, 0, 0, 0.3));\n",
              "      fill: #FFFFFF;\n",
              "    }\n",
              "  </style>\n",
              "\n",
              "      <script>\n",
              "        const buttonEl =\n",
              "          document.querySelector('#df-370dd915-f505-4b68-b36a-cf3fa623257d button.colab-df-convert');\n",
              "        buttonEl.style.display =\n",
              "          google.colab.kernel.accessAllowed ? 'block' : 'none';\n",
              "\n",
              "        async function convertToInteractive(key) {\n",
              "          const element = document.querySelector('#df-370dd915-f505-4b68-b36a-cf3fa623257d');\n",
              "          const dataTable =\n",
              "            await google.colab.kernel.invokeFunction('convertToInteractive',\n",
              "                                                     [key], {});\n",
              "          if (!dataTable) return;\n",
              "\n",
              "          const docLinkHtml = 'Like what you see? Visit the ' +\n",
              "            '<a target=\"_blank\" href=https://colab.research.google.com/notebooks/data_table.ipynb>data table notebook</a>'\n",
              "            + ' to learn more about interactive tables.';\n",
              "          element.innerHTML = '';\n",
              "          dataTable['output_type'] = 'display_data';\n",
              "          await google.colab.output.renderOutput(dataTable, element);\n",
              "          const docLink = document.createElement('div');\n",
              "          docLink.innerHTML = docLinkHtml;\n",
              "          element.appendChild(docLink);\n",
              "        }\n",
              "      </script>\n",
              "    </div>\n",
              "  </div>\n",
              "  "
            ]
          },
          "metadata": {},
          "execution_count": 9
        }
      ]
    },
    {
      "cell_type": "code",
      "source": [
        "# extracting the names of the labels\n",
        "labels_names = list(Counter(dataset['label']).keys())\n",
        "labels_names"
      ],
      "metadata": {
        "colab": {
          "base_uri": "https://localhost:8080/"
        },
        "id": "9uHdTY3p9Xfr",
        "outputId": "d3d2ac7a-2255-4afc-fba2-763d2df0dade"
      },
      "execution_count": 10,
      "outputs": [
        {
          "output_type": "execute_result",
          "data": {
            "text/plain": [
              "['Animals & Pet Supplies',\n",
              " 'Apparel & Accessories',\n",
              " 'Arts & Entertainment',\n",
              " 'Baby & Toddler',\n",
              " 'Business & Industrial',\n",
              " 'Cameras & Optics',\n",
              " 'Electronics',\n",
              " 'Food, Beverages & Tobacco',\n",
              " 'Furniture',\n",
              " 'Hardware',\n",
              " 'Health & Beauty',\n",
              " 'Home & Garden',\n",
              " 'Luggage & Bags',\n",
              " 'Media',\n",
              " 'Office Supplies',\n",
              " 'Religious & Ceremonial',\n",
              " 'Software',\n",
              " 'Sporting Goods',\n",
              " 'Toys & Games',\n",
              " 'Vehicles & Parts']"
            ]
          },
          "metadata": {},
          "execution_count": 10
        }
      ]
    },
    {
      "cell_type": "code",
      "source": [
        "# printing each integer label and its corresponding name label\n",
        "for i, label in enumerate(labels_names):\n",
        "  print(\"Label\", i, \"corresponds to\", label)"
      ],
      "metadata": {
        "colab": {
          "base_uri": "https://localhost:8080/"
        },
        "id": "QXCgd6QTC_k6",
        "outputId": "9cb4f876-5f8e-4f6d-c211-87dd7f330700"
      },
      "execution_count": 11,
      "outputs": [
        {
          "output_type": "stream",
          "name": "stdout",
          "text": [
            "Label 0 corresponds to Animals & Pet Supplies\n",
            "Label 1 corresponds to Apparel & Accessories\n",
            "Label 2 corresponds to Arts & Entertainment\n",
            "Label 3 corresponds to Baby & Toddler\n",
            "Label 4 corresponds to Business & Industrial\n",
            "Label 5 corresponds to Cameras & Optics\n",
            "Label 6 corresponds to Electronics\n",
            "Label 7 corresponds to Food, Beverages & Tobacco\n",
            "Label 8 corresponds to Furniture\n",
            "Label 9 corresponds to Hardware\n",
            "Label 10 corresponds to Health & Beauty\n",
            "Label 11 corresponds to Home & Garden\n",
            "Label 12 corresponds to Luggage & Bags\n",
            "Label 13 corresponds to Media\n",
            "Label 14 corresponds to Office Supplies\n",
            "Label 15 corresponds to Religious & Ceremonial\n",
            "Label 16 corresponds to Software\n",
            "Label 17 corresponds to Sporting Goods\n",
            "Label 18 corresponds to Toys & Games\n",
            "Label 19 corresponds to Vehicles & Parts\n"
          ]
        }
      ]
    },
    {
      "cell_type": "code",
      "source": [
        "# splitting dataset to train, validation, and test dataframes\n",
        "train_df, test_df= train_test_split(dataset, test_size=0.2, random_state=42)\n",
        "val_df = test_df.sample(frac=0.5)\n",
        "test_df.drop(val_df.index, inplace=True)\n",
        "\n",
        "print(f\"Number of samples in training set: {len(train_df)}\")\n",
        "print(f\"Number of samples in validation set: {len(val_df)}\")\n",
        "print(f\"Number of samples in test set: {len(test_df)}\")\n",
        "\n",
        "# extracting texts and labels from dataframes\n",
        "train_texts = train_df['text']\n",
        "train_labels = train_df['label_int']\n",
        "val_texts = val_df['text']\n",
        "val_labels = val_df['label_int']\n",
        "test_texts = test_df['text']\n",
        "test_labels = test_df['label_int']"
      ],
      "metadata": {
        "colab": {
          "base_uri": "https://localhost:8080/"
        },
        "id": "bWd2Rfp69X8g",
        "outputId": "3d7427ca-38df-48ed-f7ce-8f536f437538"
      },
      "execution_count": 12,
      "outputs": [
        {
          "output_type": "stream",
          "name": "stdout",
          "text": [
            "Number of samples in training set: 15040\n",
            "Number of samples in validation set: 1880\n",
            "Number of samples in test set: 1880\n"
          ]
        }
      ]
    },
    {
      "cell_type": "code",
      "source": [
        "# creating data generators with batch size 32\n",
        "batch_size = 32\n",
        "raw_train_batch = tf.data.Dataset.from_tensor_slices((train_texts, train_labels)).batch(batch_size)\n",
        "raw_val_batch = tf.data.Dataset.from_tensor_slices((val_texts, val_labels)).batch(batch_size)\n",
        "raw_test_batch = tf.data.Dataset.from_tensor_slices((test_texts, test_labels)).batch(batch_size)\n",
        "\n",
        "# printing texts and labels of a batch of raw train\n",
        "for text, label in raw_train_batch.take(1):\n",
        "  print('Texts: {}'.format(text))\n",
        "  print('labels: {}'.format(label))"
      ],
      "metadata": {
        "colab": {
          "base_uri": "https://localhost:8080/"
        },
        "id": "C4kA4X60zkC3",
        "outputId": "672284eb-d754-4b4f-b28a-2ec8f3e87992"
      },
      "execution_count": 13,
      "outputs": [
        {
          "output_type": "stream",
          "name": "stdout",
          "text": [
            "Texts: [b'flamme rouge meteo ozzie collectables board games lpg lpg board games lpg board games board game families lpg board games board game families flamme rouge lpg board games board game genres lpg board games board game genres multiplayer lpg board games board game genres racing lpg board games board game genres sports lpg board games multiplayer lpg board games publishers lpg board games publishers publishers t lpg board games publishers publishers t stronghold games lpg board games racing lpg board games sports lpg new arrivals lpg new arrivals arrivals archive lpg new arrivals arrivals archive arrived week of 12 10 2020 lpg new arrivals arrivals archive arrived week of 31 08 2020 lpg new arrivals arrived week of 12 10 2020 lpg publishers lpg publishers publishers t lpg publishers publishers t stronghold games multiplayer new arrivals racing spo default spo disabled sports '\n",
            " b'free term font creative fabrica 2018 ad advertisement beautiful cool creative fabrica display display font fancy font fonts free free display font free display fonts free font free fonts header magazine modern offsite otf term ttf '\n",
            " b'christmas besties snow personalized mug trending custom 07 11 2020 20110622673 223962 christmas besties snow personalized mug coffee mug customily family judge mugs personalized us shipping white mug '\n",
            " b'cbago open bottom sweatpants pennant pants sweatpant sweatpants sweats '\n",
            " b'morgan greer tarot deck cards non hoi 01 15 17 divination card divination cards mediumship card mediumship cards morgan greek tarot morgan greer morgan greer tarot cards not avail tarot tarot card deck tarot deck '\n",
            " b'brixton basin backpack navy brixton 20 40 off all products backpacks bags blue brixton fall 2015 google shopping men bags mens '\n",
            " b'gretsch black nickel over steel snare drum gretsch import halleonard drums accessories snare snare drums '\n",
            " b'jaipur living birch mezza tan pillow jaipur living all color tan home textiles jaipur living new new icon pillows size 20 20 pillow size 22 22 size 22 22 pillow spo default spo disabled '\n",
            " b'algorithm design and applications ebook collegestudenttextbook.org 1118335910 978 1118335918 algorithms '\n",
            " b'wooden whale teether purebaby ap21 code py1043ns ap21 color natural benefit antibacterial benefit beech wood benefit teething friendly benefits non toxic category retail christmas gifting full price gender unisex gifts image index py1043ns natur label colour fddcda label sale mapping index py1043ns.natur play range non seasonal sale seasonality non seasonal size os staff full price subcategory toys swatch natural tether wooden '\n",
            " b'deb mild salsa balderson village cheese store salsa '\n",
            " b'school bag waterproof rucksack for boys girls kids college travel laptop backpack brand ikueen fouce on quality by hertzin backpack backpacks '\n",
            " b'audified sceneflow pro multi player audio software edelivery audified audified edelivery finance24 software '\n",
            " b'green dragon dinosaur monster wings soft dolls plush toys kids gift shop4637048 store '\n",
            " b'colorful fish underwater painting art wall art canvas art painting canvas ducicanvas atc ducicanvas wa11art publish '\n",
            " b'protect your family from lead in your home pamphlet rebs epa lead lead base paint protect your family '\n",
            " b'grain free pure heaven biscuits canidae canidae color duck chickpea dog biscuits dog treat dog food dog gear grain free pet food pure heaven size 11 oz bag under 25 '\n",
            " b'nidecker ranger boa nidecker 19 20 200 300 30off boa color slate mens nidecker size 11 5 snowboard boots '\n",
            " b'creative pathways waldorf publications 25 art curriculum elementary high school middle school waldorf education '\n",
            " b'alpha phi og collar print tee alpha phi tab size chart 85 alpha phi classic shirt t6 tan tee '\n",
            " b'latches board doors and windows melissa doug big kid toy kp toy '\n",
            " b'junior bib lace bumkins bibs feeding '\n",
            " b'new sands valley james needham ad prints originals all photographs available in online store collector profile jenni kayne color blue color white direct relief giveback discount holiday 2019 discountable edition limited gift guide the adventurer gift guide the minimalist holiday 2019 curator collection dana covit horizontal james needham series new sands james needham klav sick photographs landscape launch limited edition photography variant 2 orientation horizontal palette cool tones palette pastels photograph photography polyptych type single print collection 04.2020 product few left representational series james needham new sands size large subject desert subject landscapes subject minimalist true blue collection '\n",
            " b'fusion spas pedicure spa and massage chair genesis fusion spas ship 247 made to order massage '\n",
            " b'the first beaver heritage house books books kids heri10 heritage house under 25 under 50 '\n",
            " b'ayon audio vulcan evo power amplifier ayon audio amplifiers ayon audio over 20000 power amplifiers published '\n",
            " b'durable picto wc handicaped people durable durable pantry janitorial signage sign stickers silver '\n",
            " b'canvas briefcase old mexico manufacturing available '\n",
            " b'truglo fiber opt shtgn frnt univ grn truglo 12 16 20 ga o vent rib brite site green sight '\n",
            " b'personalized garage with text two colors home bar led sign three sizes the led lands homeled ledsign newarrival '\n",
            " b'terrain weave entrance mat natural armadillo drop ship item free shipping '\n",
            " b'poppy magic enamel pin paper parasol press faire koa made in oakland oaklandcity pin pins stationery under25 wholesale ']\n",
            "labels: [18 16 11  1 15 12  2 11  6  4  7 12 16 18  2  4  0 17 13  4 18  3  5  4\n",
            " 13  6 14 12  5  4 11 14]\n"
          ]
        }
      ]
    },
    {
      "cell_type": "code",
      "source": [
        "# counting how many words are there in the whole texts of the dataset\n",
        "num_of_words = 0\n",
        "for i in dataset['text']: num_of_words += len(i.split())\n",
        "\n",
        "print(num_of_words)"
      ],
      "metadata": {
        "colab": {
          "base_uri": "https://localhost:8080/"
        },
        "id": "P2QpUriFrsU_",
        "outputId": "66983d67-ea0c-4a65-a169-dfb651c6522d"
      },
      "execution_count": 14,
      "outputs": [
        {
          "output_type": "stream",
          "name": "stdout",
          "text": [
            "390231\n"
          ]
        }
      ]
    },
    {
      "cell_type": "markdown",
      "source": [
        "There are about 112000 words in the texts.\n",
        "\n"
      ],
      "metadata": {
        "id": "wfw3CqfZsWyT"
      }
    },
    {
      "cell_type": "code",
      "source": [
        "# counting max sequence length and how many non-repetitive words are there in the whole texts of the dataset\n",
        "l = []\n",
        "max_seq_length = 0\n",
        "sum_seq_length=0\n",
        "for i in dataset['text']:\n",
        "  length = len(i.split())\n",
        "  sum_seq_length+=length\n",
        "  if length > max_seq_length: max_seq_length = length\n",
        "  for j in i.split():\n",
        "    if j not in l: l.append(j)\n",
        "avg_seq_length=sum_seq_length//len(dataset)\n",
        "print('max sequence length: ' , max_seq_length)\n",
        "print('average sequence length: ' , avg_seq_length)\n",
        "print('total number of unique words: ' ,len(l))"
      ],
      "metadata": {
        "colab": {
          "base_uri": "https://localhost:8080/"
        },
        "id": "2ufQzaF9ncqZ",
        "outputId": "413185cb-ae5c-49ef-a86b-84ecdb5dcf2f"
      },
      "execution_count": 15,
      "outputs": [
        {
          "output_type": "stream",
          "name": "stdout",
          "text": [
            "max sequence length:  309\n",
            "average sequence length:  20\n",
            "total number of unique words:  18933\n"
          ]
        }
      ]
    },
    {
      "cell_type": "markdown",
      "source": [
        "Maximum sequence length is 309 and There are about 19000 non-repetitive words in the whole dataset texts. So we set max word features to 10000 and sequence length to 350."
      ],
      "metadata": {
        "id": "cGGf8rQorkSR"
      }
    },
    {
      "cell_type": "code",
      "source": [
        "# setting the text vectorization layer with 10000 words and 350 sequence length\n",
        "max_features = 10000\n",
        "sequence_length = 310\n",
        "\n",
        "vectorize_layer = layers.TextVectorization(\n",
        "    max_tokens=max_features,\n",
        "    output_mode='int',\n",
        "    output_sequence_length=sequence_length)\n",
        "\n",
        "# fitting the state of the preprocessing layer to the train set. This will cause the model to build an index of strings to integers.\n",
        "vectorize_layer.adapt(train_texts)\n",
        "\n",
        "# defining the vectorize text function\n",
        "def vectorize_text(text, label):\n",
        "  text = tf.expand_dims(text, -1)\n",
        "  return vectorize_layer(text), label\n",
        "\n",
        "# retrieving a sample from a batch of texts and labels from the train set\n",
        "text_batch, label_batch = next(iter(raw_train_batch))\n",
        "first_review, first_label = text_batch[0], label_batch[0]\n",
        "print(\"Review\", first_review)\n",
        "print(\"Label\", first_label)\n",
        "print(\"Vectorized text\", vectorize_text(first_review, first_label))"
      ],
      "metadata": {
        "colab": {
          "base_uri": "https://localhost:8080/"
        },
        "id": "Ey2QJjO97T9P",
        "outputId": "e9738789-b835-4ae2-c882-8740fb2c8265"
      },
      "execution_count": 16,
      "outputs": [
        {
          "output_type": "stream",
          "name": "stdout",
          "text": [
            "Review tf.Tensor(b'flamme rouge meteo ozzie collectables board games lpg lpg board games lpg board games board game families lpg board games board game families flamme rouge lpg board games board game genres lpg board games board game genres multiplayer lpg board games board game genres racing lpg board games board game genres sports lpg board games multiplayer lpg board games publishers lpg board games publishers publishers t lpg board games publishers publishers t stronghold games lpg board games racing lpg board games sports lpg new arrivals lpg new arrivals arrivals archive lpg new arrivals arrivals archive arrived week of 12 10 2020 lpg new arrivals arrivals archive arrived week of 31 08 2020 lpg new arrivals arrived week of 12 10 2020 lpg publishers lpg publishers publishers t lpg publishers publishers t stronghold games multiplayer new arrivals racing spo default spo disabled sports ', shape=(), dtype=string)\n",
            "Label tf.Tensor(18, shape=(), dtype=int8)\n",
            "Vectorized text (<tf.Tensor: shape=(1, 310), dtype=int64, numpy=\n",
            "array([[6837, 2889, 9882, 5021, 4024,   99,   54,  143,  143,   99,   54,\n",
            "         143,   99,   54,   99,  175, 2057,  143,   99,   54,   99,  175,\n",
            "        2057, 6837, 2889,  143,   99,   54,   99,  175, 1048,  143,   99,\n",
            "          54,   99,  175, 1048, 1283,  143,   99,   54,   99,  175, 1048,\n",
            "        1584,  143,   99,   54,   99,  175, 1048,  309,  143,   99,   54,\n",
            "        1283,  143,   99,   54,  281,  143,   99,   54,  281,  281, 1036,\n",
            "         143,   99,   54,  281,  281, 1036, 4090,   54,  143,   99,   54,\n",
            "        1584,  143,   99,   54,  309,  143,    5,  134,  143,    5,  134,\n",
            "         134, 2085,  143,    5,  134,  134, 2085, 1298, 1179,   22,  108,\n",
            "          57,  239,  143,    5,  134,  134, 2085, 1298, 1179,   22, 3447,\n",
            "        3894,  239,  143,    5,  134, 1298, 1179,   22,  108,   57,  239,\n",
            "         143,  281,  143,  281,  281, 1036,  143,  281,  281, 1036, 4090,\n",
            "          54, 1283,    5,  134, 1584,   52,  150,   52,   98,  309,    0,\n",
            "           0,    0,    0,    0,    0,    0,    0,    0,    0,    0,    0,\n",
            "           0,    0,    0,    0,    0,    0,    0,    0,    0,    0,    0,\n",
            "           0,    0,    0,    0,    0,    0,    0,    0,    0,    0,    0,\n",
            "           0,    0,    0,    0,    0,    0,    0,    0,    0,    0,    0,\n",
            "           0,    0,    0,    0,    0,    0,    0,    0,    0,    0,    0,\n",
            "           0,    0,    0,    0,    0,    0,    0,    0,    0,    0,    0,\n",
            "           0,    0,    0,    0,    0,    0,    0,    0,    0,    0,    0,\n",
            "           0,    0,    0,    0,    0,    0,    0,    0,    0,    0,    0,\n",
            "           0,    0,    0,    0,    0,    0,    0,    0,    0,    0,    0,\n",
            "           0,    0,    0,    0,    0,    0,    0,    0,    0,    0,    0,\n",
            "           0,    0,    0,    0,    0,    0,    0,    0,    0,    0,    0,\n",
            "           0,    0,    0,    0,    0,    0,    0,    0,    0,    0,    0,\n",
            "           0,    0,    0,    0,    0,    0,    0,    0,    0,    0,    0,\n",
            "           0,    0,    0,    0,    0,    0,    0,    0,    0,    0,    0,\n",
            "           0,    0,    0,    0,    0,    0,    0,    0,    0,    0,    0,\n",
            "           0,    0]])>, <tf.Tensor: shape=(), dtype=int8, numpy=18>)\n"
          ]
        }
      ]
    },
    {
      "cell_type": "code",
      "source": [
        "# getting corresponding word of each integer \n",
        "print(\"1401 ---> \",vectorize_layer.get_vocabulary()[1401])\n",
        "print(\" 313 ---> \",vectorize_layer.get_vocabulary()[313])\n",
        "print('Vocabulary size: {}'.format(len(vectorize_layer.get_vocabulary())))"
      ],
      "metadata": {
        "colab": {
          "base_uri": "https://localhost:8080/"
        },
        "id": "X84dkB768GSx",
        "outputId": "77b6545f-0ed8-4314-aa7e-f2c47856f495"
      },
      "execution_count": 17,
      "outputs": [
        {
          "output_type": "stream",
          "name": "stdout",
          "text": [
            "1401 --->  fino\n",
            " 313 --->  9\n",
            "Vocabulary size: 10000\n"
          ]
        }
      ]
    },
    {
      "cell_type": "code",
      "source": [
        "# creating train, val, and test vectorized dataset and prefetching them\n",
        "train_ds = raw_train_batch.map(vectorize_text)\n",
        "val_ds = raw_val_batch.map(vectorize_text)\n",
        "test_ds = raw_test_batch.map(vectorize_text)\n",
        "\n",
        "AUTOTUNE = tf.data.AUTOTUNE\n",
        "\n",
        "train_ds = train_ds.cache().prefetch(buffer_size=AUTOTUNE)\n",
        "val_ds = val_ds.cache().prefetch(buffer_size=AUTOTUNE)\n",
        "test_ds = test_ds.cache().prefetch(buffer_size=AUTOTUNE)"
      ],
      "metadata": {
        "id": "DiW717GQ_77D"
      },
      "execution_count": 18,
      "outputs": []
    },
    {
      "cell_type": "code",
      "source": [
        "# model configuration\n",
        "embedding_dim = 16\n",
        "num_of_labels = 20\n",
        "\n",
        "model = tf.keras.Sequential([\n",
        "  layers.Embedding(max_features + 1, embedding_dim),\n",
        "  layers.Dropout(0.2),\n",
        "  layers.GlobalAveragePooling1D(),\n",
        "  layers.Dropout(0.2),\n",
        "  layers.Dense(num_of_labels)])\n",
        "\n",
        "model.summary()"
      ],
      "metadata": {
        "colab": {
          "base_uri": "https://localhost:8080/"
        },
        "id": "BBHmGG_SAWhp",
        "outputId": "a753b6e2-2cd5-4674-ed2b-8510b944bcfc"
      },
      "execution_count": 19,
      "outputs": [
        {
          "output_type": "stream",
          "name": "stdout",
          "text": [
            "Model: \"sequential\"\n",
            "_________________________________________________________________\n",
            " Layer (type)                Output Shape              Param #   \n",
            "=================================================================\n",
            " embedding (Embedding)       (None, None, 16)          160016    \n",
            "                                                                 \n",
            " dropout (Dropout)           (None, None, 16)          0         \n",
            "                                                                 \n",
            " global_average_pooling1d (G  (None, 16)               0         \n",
            " lobalAveragePooling1D)                                          \n",
            "                                                                 \n",
            " dropout_1 (Dropout)         (None, 16)                0         \n",
            "                                                                 \n",
            " dense (Dense)               (None, 20)                340       \n",
            "                                                                 \n",
            "=================================================================\n",
            "Total params: 160,356\n",
            "Trainable params: 160,356\n",
            "Non-trainable params: 0\n",
            "_________________________________________________________________\n"
          ]
        }
      ]
    },
    {
      "cell_type": "code",
      "source": [
        "# model compilation\n",
        "model.compile(optimizer='adam',\n",
        "              loss=tf.keras.losses.SparseCategoricalCrossentropy(from_logits=True),\n",
        "              metrics=['accuracy'])"
      ],
      "metadata": {
        "id": "uL6c-YGfAwLz"
      },
      "execution_count": 20,
      "outputs": []
    },
    {
      "cell_type": "code",
      "source": [
        "# training the model\n",
        "epochs = 500\n",
        "\n",
        "callback = tf.keras.callbacks.EarlyStopping(monitor='val_loss',\n",
        "                                            patience=5,\n",
        "                                            verbose=1)\n",
        "\n",
        "history = model.fit(train_ds,\n",
        "                    validation_data=val_ds,\n",
        "                    epochs=epochs,\n",
        "                    callbacks=[callback])"
      ],
      "metadata": {
        "colab": {
          "base_uri": "https://localhost:8080/"
        },
        "id": "CIfmPA3SvX4d",
        "outputId": "6e0816e3-2563-4d6e-baa6-a616192f61ec"
      },
      "execution_count": 21,
      "outputs": [
        {
          "output_type": "stream",
          "name": "stdout",
          "text": [
            "Epoch 1/150\n",
            "470/470 [==============================] - 7s 12ms/step - loss: 2.9867 - accuracy: 0.1005 - val_loss: 2.9748 - val_accuracy: 0.1330\n",
            "Epoch 2/150\n",
            "470/470 [==============================] - 5s 11ms/step - loss: 2.9523 - accuracy: 0.2047 - val_loss: 2.9252 - val_accuracy: 0.2915\n",
            "Epoch 3/150\n",
            "470/470 [==============================] - 5s 10ms/step - loss: 2.8758 - accuracy: 0.3314 - val_loss: 2.8273 - val_accuracy: 0.4947\n",
            "Epoch 4/150\n",
            "470/470 [==============================] - 5s 11ms/step - loss: 2.7534 - accuracy: 0.4774 - val_loss: 2.6888 - val_accuracy: 0.5303\n",
            "Epoch 5/150\n",
            "470/470 [==============================] - 4s 9ms/step - loss: 2.6009 - accuracy: 0.5704 - val_loss: 2.5286 - val_accuracy: 0.6223\n",
            "Epoch 6/150\n",
            "470/470 [==============================] - 5s 10ms/step - loss: 2.4350 - accuracy: 0.6435 - val_loss: 2.3594 - val_accuracy: 0.6835\n",
            "Epoch 7/150\n",
            "470/470 [==============================] - 4s 9ms/step - loss: 2.2675 - accuracy: 0.6822 - val_loss: 2.1926 - val_accuracy: 0.7096\n",
            "Epoch 8/150\n",
            "470/470 [==============================] - 5s 11ms/step - loss: 2.1012 - accuracy: 0.7199 - val_loss: 2.0289 - val_accuracy: 0.7277\n",
            "Epoch 9/150\n",
            "470/470 [==============================] - 4s 9ms/step - loss: 1.9402 - accuracy: 0.7436 - val_loss: 1.8761 - val_accuracy: 0.7457\n",
            "Epoch 10/150\n",
            "470/470 [==============================] - 5s 11ms/step - loss: 1.7938 - accuracy: 0.7685 - val_loss: 1.7334 - val_accuracy: 0.7596\n",
            "Epoch 11/150\n",
            "470/470 [==============================] - 5s 10ms/step - loss: 1.6584 - accuracy: 0.7831 - val_loss: 1.6047 - val_accuracy: 0.7750\n",
            "Epoch 12/150\n",
            "470/470 [==============================] - 5s 10ms/step - loss: 1.5304 - accuracy: 0.8042 - val_loss: 1.4856 - val_accuracy: 0.8027\n",
            "Epoch 13/150\n",
            "470/470 [==============================] - 4s 9ms/step - loss: 1.4192 - accuracy: 0.8209 - val_loss: 1.3772 - val_accuracy: 0.8176\n",
            "Epoch 14/150\n",
            "470/470 [==============================] - 5s 11ms/step - loss: 1.3142 - accuracy: 0.8345 - val_loss: 1.2797 - val_accuracy: 0.8261\n",
            "Epoch 15/150\n",
            "470/470 [==============================] - 4s 10ms/step - loss: 1.2222 - accuracy: 0.8464 - val_loss: 1.1901 - val_accuracy: 0.8436\n",
            "Epoch 16/150\n",
            "470/470 [==============================] - 5s 11ms/step - loss: 1.1385 - accuracy: 0.8546 - val_loss: 1.1099 - val_accuracy: 0.8484\n",
            "Epoch 17/150\n",
            "470/470 [==============================] - 4s 9ms/step - loss: 1.0625 - accuracy: 0.8677 - val_loss: 1.0351 - val_accuracy: 0.8590\n",
            "Epoch 18/150\n",
            "470/470 [==============================] - 5s 11ms/step - loss: 0.9903 - accuracy: 0.8747 - val_loss: 0.9679 - val_accuracy: 0.8702\n",
            "Epoch 19/150\n",
            "470/470 [==============================] - 4s 9ms/step - loss: 0.9197 - accuracy: 0.8825 - val_loss: 0.9088 - val_accuracy: 0.8766\n",
            "Epoch 20/150\n",
            "470/470 [==============================] - 4s 9ms/step - loss: 0.8668 - accuracy: 0.8884 - val_loss: 0.8523 - val_accuracy: 0.8824\n",
            "Epoch 21/150\n",
            "470/470 [==============================] - 5s 11ms/step - loss: 0.8123 - accuracy: 0.8951 - val_loss: 0.8032 - val_accuracy: 0.8883\n",
            "Epoch 22/150\n",
            "470/470 [==============================] - 4s 9ms/step - loss: 0.7652 - accuracy: 0.9032 - val_loss: 0.7557 - val_accuracy: 0.8984\n",
            "Epoch 23/150\n",
            "470/470 [==============================] - 5s 10ms/step - loss: 0.7191 - accuracy: 0.9043 - val_loss: 0.7157 - val_accuracy: 0.8979\n",
            "Epoch 24/150\n",
            "470/470 [==============================] - 5s 10ms/step - loss: 0.6763 - accuracy: 0.9128 - val_loss: 0.6748 - val_accuracy: 0.9027\n",
            "Epoch 25/150\n",
            "470/470 [==============================] - 4s 9ms/step - loss: 0.6350 - accuracy: 0.9174 - val_loss: 0.6416 - val_accuracy: 0.9021\n",
            "Epoch 26/150\n",
            "470/470 [==============================] - 5s 11ms/step - loss: 0.6010 - accuracy: 0.9234 - val_loss: 0.6083 - val_accuracy: 0.9074\n",
            "Epoch 27/150\n",
            "470/470 [==============================] - 5s 10ms/step - loss: 0.5685 - accuracy: 0.9247 - val_loss: 0.5771 - val_accuracy: 0.9122\n",
            "Epoch 28/150\n",
            "470/470 [==============================] - 5s 10ms/step - loss: 0.5406 - accuracy: 0.9283 - val_loss: 0.5506 - val_accuracy: 0.9154\n",
            "Epoch 29/150\n",
            "470/470 [==============================] - 4s 9ms/step - loss: 0.5104 - accuracy: 0.9350 - val_loss: 0.5259 - val_accuracy: 0.9144\n",
            "Epoch 30/150\n",
            "470/470 [==============================] - 6s 14ms/step - loss: 0.4855 - accuracy: 0.9352 - val_loss: 0.5004 - val_accuracy: 0.9213\n",
            "Epoch 31/150\n",
            "470/470 [==============================] - 4s 9ms/step - loss: 0.4586 - accuracy: 0.9404 - val_loss: 0.4774 - val_accuracy: 0.9229\n",
            "Epoch 32/150\n",
            "470/470 [==============================] - 5s 11ms/step - loss: 0.4355 - accuracy: 0.9421 - val_loss: 0.4578 - val_accuracy: 0.9255\n",
            "Epoch 33/150\n",
            "470/470 [==============================] - 5s 10ms/step - loss: 0.4133 - accuracy: 0.9443 - val_loss: 0.4370 - val_accuracy: 0.9293\n",
            "Epoch 34/150\n",
            "470/470 [==============================] - 5s 10ms/step - loss: 0.3933 - accuracy: 0.9476 - val_loss: 0.4195 - val_accuracy: 0.9277\n",
            "Epoch 35/150\n",
            "470/470 [==============================] - 4s 9ms/step - loss: 0.3748 - accuracy: 0.9495 - val_loss: 0.4038 - val_accuracy: 0.9351\n",
            "Epoch 36/150\n",
            "470/470 [==============================] - 5s 11ms/step - loss: 0.3581 - accuracy: 0.9503 - val_loss: 0.3866 - val_accuracy: 0.9351\n",
            "Epoch 37/150\n",
            "470/470 [==============================] - 4s 9ms/step - loss: 0.3394 - accuracy: 0.9540 - val_loss: 0.3711 - val_accuracy: 0.9410\n",
            "Epoch 38/150\n",
            "470/470 [==============================] - 5s 10ms/step - loss: 0.3256 - accuracy: 0.9580 - val_loss: 0.3565 - val_accuracy: 0.9415\n",
            "Epoch 39/150\n",
            "470/470 [==============================] - 4s 9ms/step - loss: 0.3055 - accuracy: 0.9608 - val_loss: 0.3443 - val_accuracy: 0.9410\n",
            "Epoch 40/150\n",
            "470/470 [==============================] - 5s 11ms/step - loss: 0.2965 - accuracy: 0.9614 - val_loss: 0.3310 - val_accuracy: 0.9452\n",
            "Epoch 41/150\n",
            "470/470 [==============================] - 4s 9ms/step - loss: 0.2829 - accuracy: 0.9623 - val_loss: 0.3207 - val_accuracy: 0.9484\n",
            "Epoch 42/150\n",
            "470/470 [==============================] - 5s 11ms/step - loss: 0.2695 - accuracy: 0.9638 - val_loss: 0.3078 - val_accuracy: 0.9521\n",
            "Epoch 43/150\n",
            "470/470 [==============================] - 4s 9ms/step - loss: 0.2584 - accuracy: 0.9683 - val_loss: 0.2963 - val_accuracy: 0.9537\n",
            "Epoch 44/150\n",
            "470/470 [==============================] - 5s 10ms/step - loss: 0.2471 - accuracy: 0.9684 - val_loss: 0.2866 - val_accuracy: 0.9564\n",
            "Epoch 45/150\n",
            "470/470 [==============================] - 4s 9ms/step - loss: 0.2382 - accuracy: 0.9674 - val_loss: 0.2798 - val_accuracy: 0.9537\n",
            "Epoch 46/150\n",
            "470/470 [==============================] - 4s 9ms/step - loss: 0.2289 - accuracy: 0.9697 - val_loss: 0.2682 - val_accuracy: 0.9596\n",
            "Epoch 47/150\n",
            "470/470 [==============================] - 5s 11ms/step - loss: 0.2176 - accuracy: 0.9713 - val_loss: 0.2615 - val_accuracy: 0.9564\n",
            "Epoch 48/150\n",
            "470/470 [==============================] - 4s 9ms/step - loss: 0.2095 - accuracy: 0.9734 - val_loss: 0.2513 - val_accuracy: 0.9601\n",
            "Epoch 49/150\n",
            "470/470 [==============================] - 5s 10ms/step - loss: 0.2026 - accuracy: 0.9742 - val_loss: 0.2421 - val_accuracy: 0.9617\n",
            "Epoch 50/150\n",
            "470/470 [==============================] - 4s 9ms/step - loss: 0.1923 - accuracy: 0.9753 - val_loss: 0.2366 - val_accuracy: 0.9617\n",
            "Epoch 51/150\n",
            "470/470 [==============================] - 4s 9ms/step - loss: 0.1850 - accuracy: 0.9759 - val_loss: 0.2276 - val_accuracy: 0.9622\n",
            "Epoch 52/150\n",
            "470/470 [==============================] - 5s 11ms/step - loss: 0.1800 - accuracy: 0.9763 - val_loss: 0.2217 - val_accuracy: 0.9644\n",
            "Epoch 53/150\n",
            "470/470 [==============================] - 5s 10ms/step - loss: 0.1731 - accuracy: 0.9780 - val_loss: 0.2160 - val_accuracy: 0.9638\n",
            "Epoch 54/150\n",
            "470/470 [==============================] - 5s 10ms/step - loss: 0.1645 - accuracy: 0.9802 - val_loss: 0.2101 - val_accuracy: 0.9654\n",
            "Epoch 55/150\n",
            "470/470 [==============================] - 5s 10ms/step - loss: 0.1625 - accuracy: 0.9787 - val_loss: 0.2045 - val_accuracy: 0.9649\n",
            "Epoch 56/150\n",
            "470/470 [==============================] - 7s 14ms/step - loss: 0.1552 - accuracy: 0.9809 - val_loss: 0.1998 - val_accuracy: 0.9649\n",
            "Epoch 57/150\n",
            "470/470 [==============================] - 5s 10ms/step - loss: 0.1495 - accuracy: 0.9814 - val_loss: 0.1919 - val_accuracy: 0.9670\n",
            "Epoch 58/150\n",
            "470/470 [==============================] - 5s 11ms/step - loss: 0.1423 - accuracy: 0.9822 - val_loss: 0.1894 - val_accuracy: 0.9660\n",
            "Epoch 59/150\n",
            "470/470 [==============================] - 5s 10ms/step - loss: 0.1387 - accuracy: 0.9833 - val_loss: 0.1824 - val_accuracy: 0.9670\n",
            "Epoch 60/150\n",
            "470/470 [==============================] - 4s 9ms/step - loss: 0.1357 - accuracy: 0.9817 - val_loss: 0.1768 - val_accuracy: 0.9670\n",
            "Epoch 61/150\n",
            "470/470 [==============================] - 5s 11ms/step - loss: 0.1306 - accuracy: 0.9826 - val_loss: 0.1752 - val_accuracy: 0.9681\n",
            "Epoch 62/150\n",
            "470/470 [==============================] - 4s 9ms/step - loss: 0.1235 - accuracy: 0.9840 - val_loss: 0.1683 - val_accuracy: 0.9713\n",
            "Epoch 63/150\n",
            "470/470 [==============================] - 4s 9ms/step - loss: 0.1233 - accuracy: 0.9846 - val_loss: 0.1636 - val_accuracy: 0.9691\n",
            "Epoch 64/150\n",
            "470/470 [==============================] - 5s 11ms/step - loss: 0.1172 - accuracy: 0.9826 - val_loss: 0.1609 - val_accuracy: 0.9702\n",
            "Epoch 65/150\n",
            "470/470 [==============================] - 4s 9ms/step - loss: 0.1147 - accuracy: 0.9848 - val_loss: 0.1568 - val_accuracy: 0.9723\n",
            "Epoch 66/150\n",
            "470/470 [==============================] - 5s 10ms/step - loss: 0.1090 - accuracy: 0.9860 - val_loss: 0.1544 - val_accuracy: 0.9713\n",
            "Epoch 67/150\n",
            "470/470 [==============================] - 4s 9ms/step - loss: 0.1065 - accuracy: 0.9866 - val_loss: 0.1488 - val_accuracy: 0.9713\n",
            "Epoch 68/150\n",
            "470/470 [==============================] - 4s 9ms/step - loss: 0.1057 - accuracy: 0.9868 - val_loss: 0.1479 - val_accuracy: 0.9718\n",
            "Epoch 69/150\n",
            "470/470 [==============================] - 5s 11ms/step - loss: 0.1012 - accuracy: 0.9874 - val_loss: 0.1419 - val_accuracy: 0.9734\n",
            "Epoch 70/150\n",
            "470/470 [==============================] - 4s 9ms/step - loss: 0.0989 - accuracy: 0.9872 - val_loss: 0.1393 - val_accuracy: 0.9723\n",
            "Epoch 71/150\n",
            "470/470 [==============================] - 4s 9ms/step - loss: 0.0953 - accuracy: 0.9859 - val_loss: 0.1372 - val_accuracy: 0.9729\n",
            "Epoch 72/150\n",
            "470/470 [==============================] - 4s 9ms/step - loss: 0.0905 - accuracy: 0.9886 - val_loss: 0.1336 - val_accuracy: 0.9761\n",
            "Epoch 73/150\n",
            "470/470 [==============================] - 4s 9ms/step - loss: 0.0903 - accuracy: 0.9880 - val_loss: 0.1306 - val_accuracy: 0.9771\n",
            "Epoch 74/150\n",
            "470/470 [==============================] - 5s 11ms/step - loss: 0.0870 - accuracy: 0.9880 - val_loss: 0.1269 - val_accuracy: 0.9777\n",
            "Epoch 75/150\n",
            "470/470 [==============================] - 4s 9ms/step - loss: 0.0857 - accuracy: 0.9900 - val_loss: 0.1231 - val_accuracy: 0.9771\n",
            "Epoch 76/150\n",
            "470/470 [==============================] - 4s 10ms/step - loss: 0.0827 - accuracy: 0.9889 - val_loss: 0.1212 - val_accuracy: 0.9793\n",
            "Epoch 77/150\n",
            "470/470 [==============================] - 5s 10ms/step - loss: 0.0785 - accuracy: 0.9895 - val_loss: 0.1195 - val_accuracy: 0.9803\n",
            "Epoch 78/150\n",
            "470/470 [==============================] - 4s 9ms/step - loss: 0.0778 - accuracy: 0.9906 - val_loss: 0.1161 - val_accuracy: 0.9798\n",
            "Epoch 79/150\n",
            "470/470 [==============================] - 5s 11ms/step - loss: 0.0755 - accuracy: 0.9910 - val_loss: 0.1143 - val_accuracy: 0.9803\n",
            "Epoch 80/150\n",
            "470/470 [==============================] - 4s 9ms/step - loss: 0.0747 - accuracy: 0.9896 - val_loss: 0.1118 - val_accuracy: 0.9798\n",
            "Epoch 81/150\n",
            "470/470 [==============================] - 5s 11ms/step - loss: 0.0710 - accuracy: 0.9913 - val_loss: 0.1117 - val_accuracy: 0.9798\n",
            "Epoch 82/150\n",
            "470/470 [==============================] - 5s 11ms/step - loss: 0.0701 - accuracy: 0.9908 - val_loss: 0.1088 - val_accuracy: 0.9819\n",
            "Epoch 83/150\n",
            "470/470 [==============================] - 4s 9ms/step - loss: 0.0693 - accuracy: 0.9906 - val_loss: 0.1049 - val_accuracy: 0.9840\n",
            "Epoch 84/150\n",
            "470/470 [==============================] - 6s 13ms/step - loss: 0.0667 - accuracy: 0.9917 - val_loss: 0.1040 - val_accuracy: 0.9824\n",
            "Epoch 85/150\n",
            "470/470 [==============================] - 9s 18ms/step - loss: 0.0648 - accuracy: 0.9910 - val_loss: 0.1018 - val_accuracy: 0.9835\n",
            "Epoch 86/150\n",
            "470/470 [==============================] - 5s 10ms/step - loss: 0.0627 - accuracy: 0.9916 - val_loss: 0.1011 - val_accuracy: 0.9824\n",
            "Epoch 87/150\n",
            "470/470 [==============================] - 6s 12ms/step - loss: 0.0614 - accuracy: 0.9922 - val_loss: 0.0963 - val_accuracy: 0.9851\n",
            "Epoch 88/150\n",
            "470/470 [==============================] - 4s 9ms/step - loss: 0.0605 - accuracy: 0.9919 - val_loss: 0.0951 - val_accuracy: 0.9840\n",
            "Epoch 89/150\n",
            "470/470 [==============================] - 5s 11ms/step - loss: 0.0579 - accuracy: 0.9932 - val_loss: 0.0946 - val_accuracy: 0.9835\n",
            "Epoch 90/150\n",
            "470/470 [==============================] - 5s 10ms/step - loss: 0.0569 - accuracy: 0.9938 - val_loss: 0.0927 - val_accuracy: 0.9851\n",
            "Epoch 91/150\n",
            "470/470 [==============================] - 5s 10ms/step - loss: 0.0550 - accuracy: 0.9941 - val_loss: 0.0926 - val_accuracy: 0.9846\n",
            "Epoch 92/150\n",
            "470/470 [==============================] - 4s 9ms/step - loss: 0.0554 - accuracy: 0.9923 - val_loss: 0.0902 - val_accuracy: 0.9851\n",
            "Epoch 93/150\n",
            "470/470 [==============================] - 5s 11ms/step - loss: 0.0534 - accuracy: 0.9940 - val_loss: 0.0889 - val_accuracy: 0.9862\n",
            "Epoch 94/150\n",
            "470/470 [==============================] - 4s 9ms/step - loss: 0.0536 - accuracy: 0.9925 - val_loss: 0.0868 - val_accuracy: 0.9862\n",
            "Epoch 95/150\n",
            "470/470 [==============================] - 4s 9ms/step - loss: 0.0495 - accuracy: 0.9943 - val_loss: 0.0850 - val_accuracy: 0.9862\n",
            "Epoch 96/150\n",
            "470/470 [==============================] - 5s 11ms/step - loss: 0.0500 - accuracy: 0.9937 - val_loss: 0.0840 - val_accuracy: 0.9867\n",
            "Epoch 97/150\n",
            "470/470 [==============================] - 4s 9ms/step - loss: 0.0496 - accuracy: 0.9939 - val_loss: 0.0813 - val_accuracy: 0.9862\n",
            "Epoch 98/150\n",
            "470/470 [==============================] - 5s 10ms/step - loss: 0.0481 - accuracy: 0.9944 - val_loss: 0.0832 - val_accuracy: 0.9878\n",
            "Epoch 99/150\n",
            "470/470 [==============================] - 4s 9ms/step - loss: 0.0475 - accuracy: 0.9941 - val_loss: 0.0806 - val_accuracy: 0.9867\n",
            "Epoch 100/150\n",
            "470/470 [==============================] - 4s 9ms/step - loss: 0.0459 - accuracy: 0.9939 - val_loss: 0.0795 - val_accuracy: 0.9872\n",
            "Epoch 101/150\n",
            "470/470 [==============================] - 5s 11ms/step - loss: 0.0445 - accuracy: 0.9947 - val_loss: 0.0783 - val_accuracy: 0.9872\n",
            "Epoch 102/150\n",
            "470/470 [==============================] - 4s 9ms/step - loss: 0.0437 - accuracy: 0.9943 - val_loss: 0.0765 - val_accuracy: 0.9862\n",
            "Epoch 103/150\n",
            "470/470 [==============================] - 5s 11ms/step - loss: 0.0416 - accuracy: 0.9943 - val_loss: 0.0770 - val_accuracy: 0.9872\n",
            "Epoch 104/150\n",
            "470/470 [==============================] - 5s 11ms/step - loss: 0.0411 - accuracy: 0.9943 - val_loss: 0.0753 - val_accuracy: 0.9872\n",
            "Epoch 105/150\n",
            "470/470 [==============================] - 4s 9ms/step - loss: 0.0405 - accuracy: 0.9953 - val_loss: 0.0749 - val_accuracy: 0.9862\n",
            "Epoch 106/150\n",
            "470/470 [==============================] - 5s 11ms/step - loss: 0.0386 - accuracy: 0.9951 - val_loss: 0.0729 - val_accuracy: 0.9872\n",
            "Epoch 107/150\n",
            "470/470 [==============================] - 5s 12ms/step - loss: 0.0382 - accuracy: 0.9955 - val_loss: 0.0728 - val_accuracy: 0.9872\n",
            "Epoch 108/150\n",
            "470/470 [==============================] - 4s 9ms/step - loss: 0.0375 - accuracy: 0.9957 - val_loss: 0.0707 - val_accuracy: 0.9872\n",
            "Epoch 109/150\n",
            "470/470 [==============================] - 5s 11ms/step - loss: 0.0377 - accuracy: 0.9947 - val_loss: 0.0709 - val_accuracy: 0.9862\n",
            "Epoch 110/150\n",
            "470/470 [==============================] - 4s 9ms/step - loss: 0.0375 - accuracy: 0.9955 - val_loss: 0.0700 - val_accuracy: 0.9878\n",
            "Epoch 111/150\n",
            "470/470 [==============================] - 5s 11ms/step - loss: 0.0363 - accuracy: 0.9949 - val_loss: 0.0683 - val_accuracy: 0.9856\n",
            "Epoch 112/150\n",
            "470/470 [==============================] - 4s 9ms/step - loss: 0.0354 - accuracy: 0.9958 - val_loss: 0.0680 - val_accuracy: 0.9872\n",
            "Epoch 113/150\n",
            "470/470 [==============================] - 5s 11ms/step - loss: 0.0351 - accuracy: 0.9955 - val_loss: 0.0670 - val_accuracy: 0.9862\n",
            "Epoch 114/150\n",
            "470/470 [==============================] - 4s 9ms/step - loss: 0.0344 - accuracy: 0.9951 - val_loss: 0.0658 - val_accuracy: 0.9856\n",
            "Epoch 115/150\n",
            "470/470 [==============================] - 4s 9ms/step - loss: 0.0326 - accuracy: 0.9961 - val_loss: 0.0658 - val_accuracy: 0.9872\n",
            "Epoch 116/150\n",
            "470/470 [==============================] - 6s 12ms/step - loss: 0.0331 - accuracy: 0.9960 - val_loss: 0.0645 - val_accuracy: 0.9867\n",
            "Epoch 117/150\n",
            "470/470 [==============================] - 4s 9ms/step - loss: 0.0325 - accuracy: 0.9953 - val_loss: 0.0658 - val_accuracy: 0.9878\n",
            "Epoch 118/150\n",
            "470/470 [==============================] - 5s 11ms/step - loss: 0.0321 - accuracy: 0.9964 - val_loss: 0.0618 - val_accuracy: 0.9878\n",
            "Epoch 119/150\n",
            "470/470 [==============================] - 5s 10ms/step - loss: 0.0314 - accuracy: 0.9955 - val_loss: 0.0629 - val_accuracy: 0.9878\n",
            "Epoch 120/150\n",
            "470/470 [==============================] - 4s 9ms/step - loss: 0.0317 - accuracy: 0.9956 - val_loss: 0.0627 - val_accuracy: 0.9862\n",
            "Epoch 121/150\n",
            "470/470 [==============================] - 5s 11ms/step - loss: 0.0302 - accuracy: 0.9961 - val_loss: 0.0629 - val_accuracy: 0.9867\n",
            "Epoch 122/150\n",
            "470/470 [==============================] - 5s 11ms/step - loss: 0.0302 - accuracy: 0.9959 - val_loss: 0.0623 - val_accuracy: 0.9856\n",
            "Epoch 123/150\n",
            "470/470 [==============================] - 5s 10ms/step - loss: 0.0303 - accuracy: 0.9964 - val_loss: 0.0602 - val_accuracy: 0.9872\n",
            "Epoch 124/150\n",
            "470/470 [==============================] - 4s 9ms/step - loss: 0.0290 - accuracy: 0.9955 - val_loss: 0.0614 - val_accuracy: 0.9851\n",
            "Epoch 125/150\n",
            "470/470 [==============================] - 5s 11ms/step - loss: 0.0290 - accuracy: 0.9963 - val_loss: 0.0601 - val_accuracy: 0.9872\n",
            "Epoch 126/150\n",
            "470/470 [==============================] - 5s 10ms/step - loss: 0.0277 - accuracy: 0.9961 - val_loss: 0.0587 - val_accuracy: 0.9862\n",
            "Epoch 127/150\n",
            "470/470 [==============================] - 5s 10ms/step - loss: 0.0271 - accuracy: 0.9965 - val_loss: 0.0588 - val_accuracy: 0.9872\n",
            "Epoch 128/150\n",
            "470/470 [==============================] - 4s 9ms/step - loss: 0.0263 - accuracy: 0.9963 - val_loss: 0.0590 - val_accuracy: 0.9878\n",
            "Epoch 129/150\n",
            "470/470 [==============================] - 5s 11ms/step - loss: 0.0258 - accuracy: 0.9965 - val_loss: 0.0593 - val_accuracy: 0.9867\n",
            "Epoch 130/150\n",
            "470/470 [==============================] - 4s 9ms/step - loss: 0.0266 - accuracy: 0.9959 - val_loss: 0.0570 - val_accuracy: 0.9872\n",
            "Epoch 131/150\n",
            "470/470 [==============================] - 4s 9ms/step - loss: 0.0268 - accuracy: 0.9968 - val_loss: 0.0567 - val_accuracy: 0.9878\n",
            "Epoch 132/150\n",
            "470/470 [==============================] - 5s 10ms/step - loss: 0.0254 - accuracy: 0.9963 - val_loss: 0.0560 - val_accuracy: 0.9862\n",
            "Epoch 133/150\n",
            "470/470 [==============================] - 4s 9ms/step - loss: 0.0246 - accuracy: 0.9965 - val_loss: 0.0575 - val_accuracy: 0.9872\n",
            "Epoch 134/150\n",
            "470/470 [==============================] - 5s 11ms/step - loss: 0.0243 - accuracy: 0.9969 - val_loss: 0.0548 - val_accuracy: 0.9867\n",
            "Epoch 135/150\n",
            "470/470 [==============================] - 5s 10ms/step - loss: 0.0240 - accuracy: 0.9966 - val_loss: 0.0556 - val_accuracy: 0.9872\n",
            "Epoch 136/150\n",
            "470/470 [==============================] - 5s 11ms/step - loss: 0.0258 - accuracy: 0.9967 - val_loss: 0.0541 - val_accuracy: 0.9867\n",
            "Epoch 137/150\n",
            "470/470 [==============================] - 5s 10ms/step - loss: 0.0232 - accuracy: 0.9971 - val_loss: 0.0540 - val_accuracy: 0.9878\n",
            "Epoch 138/150\n",
            "470/470 [==============================] - 5s 12ms/step - loss: 0.0227 - accuracy: 0.9974 - val_loss: 0.0529 - val_accuracy: 0.9872\n",
            "Epoch 139/150\n",
            "470/470 [==============================] - 4s 9ms/step - loss: 0.0232 - accuracy: 0.9965 - val_loss: 0.0535 - val_accuracy: 0.9872\n",
            "Epoch 140/150\n",
            "470/470 [==============================] - 5s 11ms/step - loss: 0.0209 - accuracy: 0.9977 - val_loss: 0.0530 - val_accuracy: 0.9872\n",
            "Epoch 141/150\n",
            "470/470 [==============================] - 4s 9ms/step - loss: 0.0222 - accuracy: 0.9969 - val_loss: 0.0522 - val_accuracy: 0.9867\n",
            "Epoch 142/150\n",
            "470/470 [==============================] - 5s 10ms/step - loss: 0.0218 - accuracy: 0.9971 - val_loss: 0.0525 - val_accuracy: 0.9872\n",
            "Epoch 143/150\n",
            "470/470 [==============================] - 5s 10ms/step - loss: 0.0211 - accuracy: 0.9971 - val_loss: 0.0523 - val_accuracy: 0.9862\n",
            "Epoch 144/150\n",
            "470/470 [==============================] - 4s 9ms/step - loss: 0.0222 - accuracy: 0.9969 - val_loss: 0.0515 - val_accuracy: 0.9878\n",
            "Epoch 145/150\n",
            "470/470 [==============================] - 6s 13ms/step - loss: 0.0207 - accuracy: 0.9973 - val_loss: 0.0503 - val_accuracy: 0.9867\n",
            "Epoch 146/150\n",
            "470/470 [==============================] - 4s 9ms/step - loss: 0.0208 - accuracy: 0.9973 - val_loss: 0.0498 - val_accuracy: 0.9883\n",
            "Epoch 147/150\n",
            "470/470 [==============================] - 5s 11ms/step - loss: 0.0200 - accuracy: 0.9974 - val_loss: 0.0497 - val_accuracy: 0.9872\n",
            "Epoch 148/150\n",
            "470/470 [==============================] - 5s 12ms/step - loss: 0.0198 - accuracy: 0.9974 - val_loss: 0.0498 - val_accuracy: 0.9867\n",
            "Epoch 149/150\n",
            "470/470 [==============================] - 4s 9ms/step - loss: 0.0216 - accuracy: 0.9969 - val_loss: 0.0505 - val_accuracy: 0.9867\n",
            "Epoch 150/150\n",
            "470/470 [==============================] - 5s 10ms/step - loss: 0.0192 - accuracy: 0.9971 - val_loss: 0.0499 - val_accuracy: 0.9867\n"
          ]
        }
      ]
    },
    {
      "cell_type": "code",
      "source": [
        "# printing loss and accuracy of the model on the test set\n",
        "loss, accuracy = model.evaluate(test_ds)\n",
        "print(\"Loss: \", loss)\n",
        "print(\"Accuracy: \", accuracy)"
      ],
      "metadata": {
        "colab": {
          "base_uri": "https://localhost:8080/"
        },
        "id": "FksY9EwwHDkd",
        "outputId": "b65d3de9-c9b1-4db5-d3cf-5fc4e316aa1d"
      },
      "execution_count": 22,
      "outputs": [
        {
          "output_type": "stream",
          "name": "stdout",
          "text": [
            "59/59 [==============================] - 0s 3ms/step - loss: 0.0727 - accuracy: 0.9824\n",
            "Loss:  0.07270963490009308\n",
            "Accuracy:  0.9824467897415161\n"
          ]
        }
      ]
    },
    {
      "cell_type": "code",
      "source": [
        "# extracting the history of training and its keys\n",
        "history_dict = history.history\n",
        "history_dict.keys()"
      ],
      "metadata": {
        "colab": {
          "base_uri": "https://localhost:8080/"
        },
        "id": "cPdyDruxHIv1",
        "outputId": "09f62d3b-e4ca-4d06-8a6a-5d3ca42c2a08"
      },
      "execution_count": 23,
      "outputs": [
        {
          "output_type": "execute_result",
          "data": {
            "text/plain": [
              "dict_keys(['loss', 'accuracy', 'val_loss', 'val_accuracy'])"
            ]
          },
          "metadata": {},
          "execution_count": 23
        }
      ]
    },
    {
      "cell_type": "code",
      "source": [
        "acc = history_dict['accuracy']\n",
        "val_acc = history_dict['val_accuracy']\n",
        "loss = history_dict['loss']\n",
        "val_loss = history_dict['val_loss']\n",
        "\n",
        "epochs = range(1, len(acc) + 1)"
      ],
      "metadata": {
        "id": "shbF_xRlHDqZ"
      },
      "execution_count": 24,
      "outputs": []
    },
    {
      "cell_type": "code",
      "source": [
        "# ploting of loss\n",
        "plt.plot(epochs, loss, 'b', label='Training loss')\n",
        "plt.plot(epochs, val_loss, 'r', label='Validation loss')\n",
        "plt.title('Training and validation loss')\n",
        "plt.xlabel('Epochs')\n",
        "plt.ylabel('Loss')\n",
        "plt.legend()\n",
        "plt.show()"
      ],
      "metadata": {
        "colab": {
          "base_uri": "https://localhost:8080/",
          "height": 295
        },
        "id": "iLsoTgHGP7Oq",
        "outputId": "9127d91a-a6c6-4fe1-8e3a-3e214d75b0b7"
      },
      "execution_count": 25,
      "outputs": [
        {
          "output_type": "display_data",
          "data": {
            "text/plain": [
              "<Figure size 432x288 with 1 Axes>"
            ],
            "image/png": "[encoded data removed]"
          },
          "metadata": {
            "needs_background": "light"
          }
        }
      ]
    },
    {
      "cell_type": "code",
      "source": [
        "# plotting of accuracy\n",
        "plt.plot(epochs, acc, 'b', label='Training acc')\n",
        "plt.plot(epochs, val_acc, 'r', label='Validation acc')\n",
        "plt.title('Training and validation accuracy')\n",
        "plt.xlabel('Epochs')\n",
        "plt.ylabel('Accuracy')\n",
        "plt.legend(loc='lower right')\n",
        "plt.show()"
      ],
      "metadata": {
        "colab": {
          "base_uri": "https://localhost:8080/",
          "height": 295
        },
        "id": "1uWqq-CtP-Lq",
        "outputId": "c365d074-c3ad-4f8f-a908-99fbd1b2c5e9"
      },
      "execution_count": 26,
      "outputs": [
        {
          "output_type": "display_data",
          "data": {
            "text/plain": [
              "<Figure size 432x288 with 1 Axes>"
            ],
            "image/png": "[encoded data removed]"
          },
          "metadata": {
            "needs_background": "light"
          }
        }
      ]
    },
    {
      "cell_type": "code",
      "source": [
        "# creating the probability model for testing\n",
        "probability_model = tf.keras.Sequential([model, tf.keras.layers.Softmax()])\n",
        "\n",
        "# predicting test samples\n",
        "predictions = probability_model.predict(raw_test_batch.map(vectorize_text))"
      ],
      "metadata": {
        "id": "YQj61lIMvX-Y",
        "colab": {
          "base_uri": "https://localhost:8080/"
        },
        "outputId": "f2f23b02-a75d-461d-d81f-6a437b9b553a"
      },
      "execution_count": 27,
      "outputs": [
        {
          "output_type": "stream",
          "name": "stdout",
          "text": [
            "59/59 [==============================] - 1s 5ms/step\n"
          ]
        }
      ]
    },
    {
      "cell_type": "code",
      "source": [
        "# showing the first test sample result label\n",
        "np.argmax(predictions[3])"
      ],
      "metadata": {
        "colab": {
          "base_uri": "https://localhost:8080/"
        },
        "id": "5cbhBKR7NYPQ",
        "outputId": "f4c39787-1799-4ea2-edd9-ceb755e1f1a5"
      },
      "execution_count": 28,
      "outputs": [
        {
          "output_type": "execute_result",
          "data": {
            "text/plain": [
              "1"
            ]
          },
          "metadata": {},
          "execution_count": 28
        }
      ]
    },
    {
      "cell_type": "code",
      "source": [
        "# showing the true label of the first test sample\n",
        "test_df.iloc[3]"
      ],
      "metadata": {
        "colab": {
          "base_uri": "https://localhost:8080/"
        },
        "id": "aNsnTWVuu3xj",
        "outputId": "0c7e3af9-e157-4eec-a40b-8b180771f053"
      },
      "execution_count": 29,
      "outputs": [
        {
          "output_type": "execute_result",
          "data": {
            "text/plain": [
              "text         black flannelette open chest sexy dress fashio...\n",
              "label                                    Apparel & Accessories\n",
              "label_int                                                    1\n",
              "Name: 1297, dtype: object"
            ]
          },
          "metadata": {},
          "execution_count": 29
        }
      ]
    },
    {
      "cell_type": "code",
      "source": [],
      "metadata": {
        "id": "bOt2UPu7NbUW"
      },
      "execution_count": 29,
      "outputs": []
    },
    {
      "cell_type": "markdown",
      "source": [
        "**Author:** https://farrokhkarimi.github.io/"
      ],
      "metadata": {
        "id": "CSw7kwIQipyc"
      }
    }
  ]
}